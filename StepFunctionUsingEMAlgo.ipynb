{
 "cells": [
  {
   "cell_type": "code",
   "execution_count": 4,
   "metadata": {},
   "outputs": [],
   "source": [
    "import numpy as np\n",
    "import matplotlib.pyplot as plt\n",
    "from scipy.stats import norm\n",
    "plt.style.use('seaborn-dark-palette')"
   ]
  },
  {
   "cell_type": "code",
   "execution_count": 5,
   "metadata": {},
   "outputs": [],
   "source": [
    "mu1 = 2\n",
    "mu2 = 3\n",
    "var1 = 0.01\n",
    "var2 = 0.01"
   ]
  },
  {
   "cell_type": "code",
   "execution_count": 6,
   "metadata": {},
   "outputs": [],
   "source": [
    "s1 = np.random.normal(mu1,var1,20)\n",
    "s2 = np.random.normal(mu2,var2,30)\n",
    "s = np.concatenate([s1,s2])"
   ]
  },
  {
   "cell_type": "code",
   "execution_count": 7,
   "metadata": {},
   "outputs": [
    {
     "data": {
      "image/png": "[encoded data removed]",
      "text/plain": [
       "<Figure size 432x288 with 1 Axes>"
      ]
     },
     "metadata": {
      "needs_background": "light"
     },
     "output_type": "display_data"
    }
   ],
   "source": [
    "plt.scatter(range(len(s)),s);\n",
    "plt.title('Points generated using Normal distribution');"
   ]
  },
  {
   "cell_type": "code",
   "execution_count": 8,
   "metadata": {},
   "outputs": [],
   "source": [
    "# initialize the params\n",
    "alpha = np.min(s)\n",
    "beta = np.max(s)\n",
    "var = np.var(s)\n",
    "theta = 0.5\n",
    "n_itr = 200\n",
    "gamma = np.zeros((len(s),))\n",
    "results = [[0,0,0,0]]"
   ]
  },
  {
   "cell_type": "code",
   "execution_count": 9,
   "metadata": {},
   "outputs": [
    {
     "name": "stdout",
     "output_type": "stream",
     "text": [
      "2.0016931837437766 2.9992239040014295 0.599982972126536\n"
     ]
    },
    {
     "name": "stderr",
     "output_type": "stream",
     "text": [
      "/usr/local/lib/python3.6/site-packages/ipykernel_launcher.py:6: RuntimeWarning: invalid value encountered in true_divide\n",
      "  \n"
     ]
    }
   ],
   "source": [
    "for k in range(n_itr):\n",
    "    # define the denisty functions\n",
    "    phi1 = norm(loc=alpha, scale = var)\n",
    "    phi2 = norm(loc=beta, scale=var)\n",
    "    # expectation step\n",
    "    gamma = np.divide(theta*phi2.pdf(s), theta*phi2.pdf(s) + (1-theta)*phi1.pdf(s))\n",
    "    # maximization step\n",
    "    alpha = np.divide(np.dot(1-gamma, s), np.sum(1-gamma))\n",
    "    beta = np.divide(np.dot(gamma, s), np.sum(gamma))\n",
    "    var = np.sum(np.square( s - alpha*(1-gamma) - beta*gamma ) )/len(s)\n",
    "    theta = np.sum(gamma)/len(s)\n",
    "    # stop the iterations if values explode\n",
    "    if np.isnan(alpha) or (results[-1][0]==alpha):\n",
    "        break\n",
    "    # results\n",
    "    print(alpha, beta, theta)\n",
    "    # store the results\n",
    "    results.append([alpha,beta,theta,gamma])"
   ]
  },
  {
   "cell_type": "code",
   "execution_count": 10,
   "metadata": {},
   "outputs": [
    {
     "data": {
      "image/png": "[encoded data removed]",
      "text/plain": [
       "<Figure size 432x288 with 1 Axes>"
      ]
     },
     "metadata": {
      "needs_background": "light"
     },
     "output_type": "display_data"
    }
   ],
   "source": [
    "# solution is stored in last but one \n",
    "alpha = results[-1][0]\n",
    "beta = results[-1][1]\n",
    "theta = results[-1][2]\n",
    "gamma = results[-1][3]\n",
    "plt.scatter(range(len(s)),s)\n",
    "plt.plot(range(len(s)), (1-gamma)*alpha + gamma*beta, c=\"r\")\n",
    "plt.show()"
   ]
  },
  {
   "cell_type": "code",
   "execution_count": null,
   "metadata": {},
   "outputs": [],
   "source": []
  }
 ],
 "metadata": {
  "kernelspec": {
   "display_name": "Python 3",
   "language": "python",
   "name": "python3"
  },
  "language_info": {
   "codemirror_mode": {
    "name": "ipython",
    "version": 3
   },
   "file_extension": ".py",
   "mimetype": "text/x-python",
   "name": "python",
   "nbconvert_exporter": "python",
   "pygments_lexer": "ipython3",
   "version": "3.6.5"
  }
 },
 "nbformat": 4,
 "nbformat_minor": 2
}
